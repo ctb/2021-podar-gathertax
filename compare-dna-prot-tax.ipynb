{
 "cells": [
  {
   "cell_type": "code",
   "execution_count": 7,
   "metadata": {},
   "outputs": [],
   "source": [
    "import pandas as pd\n",
    "\n",
    "# rank to compare at:\n",
    "rank = 'genus'\n",
    "\n",
    "# output of the other notebooks\n",
    "prot_df = pd.read_csv(f'podar-protein-{rank}.csv')\n",
    "dna_df = pd.read_csv(f'podar-dna-{rank}.csv')"
   ]
  },
  {
   "cell_type": "code",
   "execution_count": 8,
   "metadata": {},
   "outputs": [],
   "source": [
    "prot_df.columns = ['unnamed', 'name', 'prot_hashes', 'prot_best_hashes', 'prot_lineage']"
   ]
  },
  {
   "cell_type": "code",
   "execution_count": 9,
   "metadata": {},
   "outputs": [],
   "source": [
    "prot_df.set_index(\"name\")\n",
    "prot_df.reset_index()\n",
    "\n",
    "dna_df.set_index(\"name\")\n",
    "_ = dna_df.reset_index()"
   ]
  },
  {
   "cell_type": "code",
   "execution_count": 10,
   "metadata": {},
   "outputs": [],
   "source": [
    "merged_df = dna_df.merge(prot_df, on='name', how='outer', indicator=True)\n",
    "merged_df['prot_hashes'] = merged_df['prot_hashes'].fillna(0)"
   ]
  },
  {
   "cell_type": "code",
   "execution_count": 11,
   "metadata": {},
   "outputs": [
    {
     "data": {
      "image/png": "[encoded data removed]",
      "text/plain": [
       "<Figure size 720x576 with 1 Axes>"
      ]
     },
     "metadata": {
      "needs_background": "light"
     },
     "output_type": "display_data"
    }
   ],
   "source": [
    "%matplotlib inline\n",
    "from matplotlib import pylab\n",
    "pylab.figure(num=None, figsize=(10, 8))\n",
    "\n",
    "pylab.plot(merged_df.hashes, merged_df.prot_hashes, 'ro', label=rank)\n",
    "#pylab.plot([0, max(merged_df.hashes)], [0, max(merged_df.prot_hashes)], '--', label='y = x')\n",
    "#pylab.plot([0, 0.5*max(merged_df.hashes)], [0, max(merged_df.prot_hashes)], '--', label='y = 0.5x')\n",
    "pylab.xlabel(\"dna hashes per lineage\")\n",
    "pylab.ylabel(\"prot hashes per lineage\")\n",
    "pylab.legend(loc='lower right')\n",
    "pylab.savefig(f'/tmp/protein-vs-dna-gather-podar-{rank}.png')"
   ]
  },
  {
   "cell_type": "code",
   "execution_count": 12,
   "metadata": {},
   "outputs": [
    {
     "data": {
      "text/html": [
       "<div>\n",
       "<style scoped>\n",
       "    .dataframe tbody tr th:only-of-type {\n",
       "        vertical-align: middle;\n",
       "    }\n",
       "\n",
       "    .dataframe tbody tr th {\n",
       "        vertical-align: top;\n",
       "    }\n",
       "\n",
       "    .dataframe thead th {\n",
       "        text-align: right;\n",
       "    }\n",
       "</style>\n",
       "<table border=\"1\" class=\"dataframe\">\n",
       "  <thead>\n",
       "    <tr style=\"text-align: right;\">\n",
       "      <th></th>\n",
       "      <th>Unnamed: 0</th>\n",
       "      <th>name</th>\n",
       "      <th>hashes</th>\n",
       "      <th>best_hashes</th>\n",
       "      <th>lineage</th>\n",
       "      <th>unnamed</th>\n",
       "      <th>prot_hashes</th>\n",
       "      <th>prot_best_hashes</th>\n",
       "      <th>prot_lineage</th>\n",
       "      <th>_merge</th>\n",
       "    </tr>\n",
       "  </thead>\n",
       "  <tbody>\n",
       "    <tr>\n",
       "      <th>13</th>\n",
       "      <td>13.0</td>\n",
       "      <td>Bacteria;Proteobacteria;Betaproteobacteria;Burkholderiales;Alcaligenaceae;Bordetella</td>\n",
       "      <td>5167000.0</td>\n",
       "      <td>5167000.0</td>\n",
       "      <td>(LineagePair(rank='superkingdom', name='Bacteria'), LineagePair(rank='phylum', name='Proteobacte...</td>\n",
       "      <td>NaN</td>\n",
       "      <td>0.0</td>\n",
       "      <td>NaN</td>\n",
       "      <td>NaN</td>\n",
       "      <td>left_only</td>\n",
       "    </tr>\n",
       "    <tr>\n",
       "      <th>26</th>\n",
       "      <td>26.0</td>\n",
       "      <td>Bacteria;Chlorobi;Chlorobia;Chlorobiales;Chlorobiaceae;Pelodictyon</td>\n",
       "      <td>2963000.0</td>\n",
       "      <td>2963000.0</td>\n",
       "      <td>(LineagePair(rank='superkingdom', name='Bacteria'), LineagePair(rank='phylum', name='Chlorobi'),...</td>\n",
       "      <td>NaN</td>\n",
       "      <td>0.0</td>\n",
       "      <td>NaN</td>\n",
       "      <td>NaN</td>\n",
       "      <td>left_only</td>\n",
       "    </tr>\n",
       "    <tr>\n",
       "      <th>49</th>\n",
       "      <td>49.0</td>\n",
       "      <td>Bacteria;Firmicutes;Bacilli;Lactobacillales;Streptococcaceae;Streptococcus</td>\n",
       "      <td>773000.0</td>\n",
       "      <td>474000.0</td>\n",
       "      <td>(LineagePair(rank='superkingdom', name='Bacteria'), LineagePair(rank='phylum', name='Firmicutes'...</td>\n",
       "      <td>NaN</td>\n",
       "      <td>0.0</td>\n",
       "      <td>NaN</td>\n",
       "      <td>NaN</td>\n",
       "      <td>left_only</td>\n",
       "    </tr>\n",
       "    <tr>\n",
       "      <th>51</th>\n",
       "      <td>51.0</td>\n",
       "      <td>Bacteria;Proteobacteria;Gammaproteobacteria;Xanthomonadales;Xanthomonadaceae;Stenotrophomonas</td>\n",
       "      <td>211000.0</td>\n",
       "      <td>211000.0</td>\n",
       "      <td>(LineagePair(rank='superkingdom', name='Bacteria'), LineagePair(rank='phylum', name='Proteobacte...</td>\n",
       "      <td>NaN</td>\n",
       "      <td>0.0</td>\n",
       "      <td>NaN</td>\n",
       "      <td>NaN</td>\n",
       "      <td>left_only</td>\n",
       "    </tr>\n",
       "    <tr>\n",
       "      <th>52</th>\n",
       "      <td>52.0</td>\n",
       "      <td>Bacteria;Cyanobacteria;;Chroococcales;;</td>\n",
       "      <td>195000.0</td>\n",
       "      <td>195000.0</td>\n",
       "      <td>(LineagePair(rank='superkingdom', name='Bacteria'), LineagePair(rank='phylum', name='Cyanobacter...</td>\n",
       "      <td>NaN</td>\n",
       "      <td>0.0</td>\n",
       "      <td>NaN</td>\n",
       "      <td>NaN</td>\n",
       "      <td>left_only</td>\n",
       "    </tr>\n",
       "    <tr>\n",
       "      <th>53</th>\n",
       "      <td>53.0</td>\n",
       "      <td>Bacteria;Proteobacteria;Gammaproteobacteria;Enterobacterales;Enterobacteriaceae;Escherichia</td>\n",
       "      <td>119000.0</td>\n",
       "      <td>119000.0</td>\n",
       "      <td>(LineagePair(rank='superkingdom', name='Bacteria'), LineagePair(rank='phylum', name='Proteobacte...</td>\n",
       "      <td>NaN</td>\n",
       "      <td>0.0</td>\n",
       "      <td>NaN</td>\n",
       "      <td>NaN</td>\n",
       "      <td>left_only</td>\n",
       "    </tr>\n",
       "  </tbody>\n",
       "</table>\n",
       "</div>"
      ],
      "text/plain": [
       "    Unnamed: 0  \\\n",
       "13        13.0   \n",
       "26        26.0   \n",
       "49        49.0   \n",
       "51        51.0   \n",
       "52        52.0   \n",
       "53        53.0   \n",
       "\n",
       "                                                                                             name  \\\n",
       "13           Bacteria;Proteobacteria;Betaproteobacteria;Burkholderiales;Alcaligenaceae;Bordetella   \n",
       "26                             Bacteria;Chlorobi;Chlorobia;Chlorobiales;Chlorobiaceae;Pelodictyon   \n",
       "49                     Bacteria;Firmicutes;Bacilli;Lactobacillales;Streptococcaceae;Streptococcus   \n",
       "51  Bacteria;Proteobacteria;Gammaproteobacteria;Xanthomonadales;Xanthomonadaceae;Stenotrophomonas   \n",
       "52                                                        Bacteria;Cyanobacteria;;Chroococcales;;   \n",
       "53    Bacteria;Proteobacteria;Gammaproteobacteria;Enterobacterales;Enterobacteriaceae;Escherichia   \n",
       "\n",
       "       hashes  best_hashes  \\\n",
       "13  5167000.0    5167000.0   \n",
       "26  2963000.0    2963000.0   \n",
       "49   773000.0     474000.0   \n",
       "51   211000.0     211000.0   \n",
       "52   195000.0     195000.0   \n",
       "53   119000.0     119000.0   \n",
       "\n",
       "                                                                                                lineage  \\\n",
       "13  (LineagePair(rank='superkingdom', name='Bacteria'), LineagePair(rank='phylum', name='Proteobacte...   \n",
       "26  (LineagePair(rank='superkingdom', name='Bacteria'), LineagePair(rank='phylum', name='Chlorobi'),...   \n",
       "49  (LineagePair(rank='superkingdom', name='Bacteria'), LineagePair(rank='phylum', name='Firmicutes'...   \n",
       "51  (LineagePair(rank='superkingdom', name='Bacteria'), LineagePair(rank='phylum', name='Proteobacte...   \n",
       "52  (LineagePair(rank='superkingdom', name='Bacteria'), LineagePair(rank='phylum', name='Cyanobacter...   \n",
       "53  (LineagePair(rank='superkingdom', name='Bacteria'), LineagePair(rank='phylum', name='Proteobacte...   \n",
       "\n",
       "    unnamed  prot_hashes  prot_best_hashes prot_lineage     _merge  \n",
       "13      NaN          0.0               NaN          NaN  left_only  \n",
       "26      NaN          0.0               NaN          NaN  left_only  \n",
       "49      NaN          0.0               NaN          NaN  left_only  \n",
       "51      NaN          0.0               NaN          NaN  left_only  \n",
       "52      NaN          0.0               NaN          NaN  left_only  \n",
       "53      NaN          0.0               NaN          NaN  left_only  "
      ]
     },
     "execution_count": 12,
     "metadata": {},
     "output_type": "execute_result"
    }
   ],
   "source": [
    "pd.set_option('display.max_colwidth', 100)\n",
    "merged_df[merged_df['prot_hashes'] == 0]"
   ]
  },
  {
   "cell_type": "code",
   "execution_count": null,
   "metadata": {},
   "outputs": [],
   "source": []
  }
 ],
 "metadata": {
  "kernelspec": {
   "display_name": "Python (myenv)",
   "language": "python",
   "name": "myenv"
  },
  "language_info": {
   "codemirror_mode": {
    "name": "ipython",
    "version": 3
   },
   "file_extension": ".py",
   "mimetype": "text/x-python",
   "name": "python",
   "nbconvert_exporter": "python",
   "pygments_lexer": "ipython3",
   "version": "3.7.6"
  }
 },
 "nbformat": 4,
 "nbformat_minor": 4
}
